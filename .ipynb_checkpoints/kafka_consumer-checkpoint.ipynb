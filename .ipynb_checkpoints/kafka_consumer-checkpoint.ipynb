{
  "nbformat": 4,
  "nbformat_minor": 0,
  "metadata": {
    "colab": {
      "provenance": []
    },
    "kernelspec": {
      "name": "python3",
      "display_name": "Python 3"
    },
    "language_info": {
      "name": "python"
    }
  },
  "cells": [
    {
      "cell_type": "code",
      "execution_count": null,
      "metadata": {
        "id": "UwmGXO9pGFRv"
      },
      "outputs": [],
      "source": [
        "!pip install kafka-python s3fs\n"
      ]
    },
    {
      "cell_type": "code",
      "source": [
        "from kafka import KafkaConsumer\n",
        "from time import sleep\n",
        "from json import dumps,loads\n",
        "import json\n",
        "from s3fs import S3FileSystem"
      ],
      "metadata": {
        "id": "YVmjLBh1HPTb"
      },
      "execution_count": null,
      "outputs": []
    },
    {
      "cell_type": "code",
      "source": [
        "consumer = KafkaConsumer(\n",
        "    'demo_testing2',\n",
        "     bootstrap_servers=['100.26.234.201:9092'], #add your IP here\n",
        "    value_deserializer=lambda x: loads(x.decode('utf-8')))"
      ],
      "metadata": {
        "id": "l71JKytjHPVn"
      },
      "execution_count": null,
      "outputs": []
    },
    {
      "cell_type": "code",
      "source": [
        "# for c in consumer:\n",
        "#     print(c.value)"
      ],
      "metadata": {
        "id": "ATO_8lLOHPXy"
      },
      "execution_count": null,
      "outputs": []
    },
    {
      "cell_type": "code",
      "source": [
        "s3 = S3FileSystem()\n"
      ],
      "metadata": {
        "id": "Z9_qvcxOHVjG"
      },
      "execution_count": null,
      "outputs": []
    },
    {
      "cell_type": "code",
      "source": [
        "for count, i in enumerate(consumer):\n",
        "    with s3.open(\"s3://kafka-stock-market-tutorial-youtube-darshil/stock_market_{}.json\".format(count), 'w') as file:\n",
        "        json.dump(i.value, file)"
      ],
      "metadata": {
        "id": "xZsUqG3qHVli"
      },
      "execution_count": null,
      "outputs": []
    }
  ]
}